{
 "cells": [
  {
   "cell_type": "markdown",
   "id": "b264b4c2",
   "metadata": {},
   "source": [
    "<h1 align=\"center\" ><span style=\"color: blue; font-size: 48px; \"><b> Assignment No. 3</b></span></h1>\n",
    "\n",
    "<h1 style=\"font-family: Trebuchet MS; font-size: 14px; color: #34495E; text-align: right; \">Submitted By: Sachin Dodake</h1>\n",
    "\n",
    "<hr style=\"height:3px;border-width:1;color:blue;background-color:blue\">"
   ]
  },
  {
   "cell_type": "markdown",
   "id": "90a40359",
   "metadata": {},
   "source": [
    "### 1. Why are `functions` advantageous to have in your programs?"
   ]
  },
  {
   "cell_type": "markdown",
   "id": "fe5940fa",
   "metadata": {},
   "source": [
    "**`Ans-1`**\n",
    ">- Python Functions is a block of statements that return the specific task. The idea is to put some commonly or repeatedly done tasks together and make a function so that instead of writing the same code again and again for different inputs, we can do the function calls to reuse code contained in it over and over again.\n",
    ">- Functions provide better modularity for your application and a high degree of code reusing.\n",
    ">- We may call the function and reuse the code contained within it with different variables rather than repeatedly creating the same code block for different input variables.\n",
    ">- **Syntax:** The syntax to declare a function is:\n",
    "                def function_name(arguments):\n",
    "                        \"\"\"Docstring\"\"\"\n",
    "                        # function body \n",
    "                        return\n",
    ">- **Parameters:**\n",
    "                    def :- keyword used to declare a function\n",
    "                    function_name :- any name given to the function\n",
    "                    arguments :- any value passed to function\n",
    "                    docstring :- short explaination about fucntion's working\n",
    "                    return (optional) :- returns value from a function\n",
    "\n",
    "> **`Rules for Defining a Function:`**\n",
    ">- Function blocks begin with the keyword **`def`** followed by the **`function name`** and **`parentheses ( ( ) )`**.\n",
    ">- Any input parameters or arguments should be placed within these parentheses. You can also define parameters inside these parentheses.\n",
    ">- The first statement of a function can be an optional statement - **`the documentation string of the function or docstring`**.\n",
    ">- The code block within every function starts with a **`colon (:)`** and is **`indented`**.\n",
    ">- The statement **`return [expression]`** exits a function, optionally passing back an expression to the caller. A return statement with no arguments is the same as **return None**.\n",
    "\n",
    "            \n",
    "> **`Advantages of Functions in Python:`**\n",
    ">- By including functions, we can prevent repeating the same code block repeatedly in a program.\n",
    ">- Python functions, once defined, can be called many times and from anywhere in a program.\n",
    ">- If our Python program is large, it can be separated into numerous functions which is simple to track.\n",
    ">- The key accomplishment of Python functions is we can return as many outputs as we want with different arguments."
   ]
  },
  {
   "cell_type": "markdown",
   "id": "ef5fd89f",
   "metadata": {},
   "source": [
    "### 2. When does the code in a `function run`: when it's specified or when it's `called`?"
   ]
  },
  {
   "cell_type": "markdown",
   "id": "6a6a63b0",
   "metadata": {},
   "source": [
    "**`Ans-2`**\n",
    "\n",
    ">- A function is defined by using the def keyword and giving it a name, specifying the arguments that must be passed to the function, and structuring the code block.\n",
    ">- After a function's fundamental framework is complete, we can call it from anywhere in the program. \n",
    ">- Following is the example to call function −"
   ]
  },
  {
   "cell_type": "code",
   "execution_count": 8,
   "id": "4d058b9f",
   "metadata": {
    "ExecuteTime": {
     "end_time": "2023-05-28T12:35:01.534013Z",
     "start_time": "2023-05-28T12:35:01.518784Z"
    }
   },
   "outputs": [
    {
     "name": "stdout",
     "output_type": "stream",
     "text": [
      "Good Morning Students!\n"
     ]
    }
   ],
   "source": [
    "# defining greet function without arguement\n",
    "def wish():\n",
    "    '''This function will greet student'''            # docstring to understand function working\n",
    "    print(f\"Good Morning Students!\")    # fucntion body to print specific greet msg\n",
    "    \n",
    "wish()                  # calling a 'greet'()  function"
   ]
  },
  {
   "cell_type": "code",
   "execution_count": 12,
   "id": "6893bbf1",
   "metadata": {
    "ExecuteTime": {
     "end_time": "2023-05-28T12:38:12.165860Z",
     "start_time": "2023-05-28T12:38:12.150021Z"
    }
   },
   "outputs": [
    {
     "name": "stdout",
     "output_type": "stream",
     "text": [
      "Welcome to iNeuron, Sachin !\n",
      "Welcome to iNeuron, Virat !\n",
      "Welcome to iNeuron, Rohit !\n"
     ]
    }
   ],
   "source": [
    "# defining greet function with arguement\n",
    "def greet(name):\n",
    "    '''This function will greet student'''            # docstring to understand function working\n",
    "    print(f\"Welcome to iNeuron, {name} !\")    # fucntion body to print specific greet msg\n",
    "    \n",
    "greet('Sachin')                  # calling a 'greet'()  function\n",
    "greet('Virat')                  # calling a 'greet'()  function\n",
    "greet('Rohit')                  # calling a 'greet'()  function"
   ]
  },
  {
   "cell_type": "code",
   "execution_count": 15,
   "id": "6f777311",
   "metadata": {
    "ExecuteTime": {
     "end_time": "2023-05-28T12:39:28.023673Z",
     "start_time": "2023-05-28T12:39:28.004671Z"
    }
   },
   "outputs": [
    {
     "name": "stdout",
     "output_type": "stream",
     "text": [
      "The square of the given number is:  36\n"
     ]
    }
   ],
   "source": [
    "# Example Python Code for User-Defined function  \n",
    "def square( num ):    \n",
    "    \"\"\"  \n",
    "    This function computes the square of the number.  \n",
    "    \"\"\"    \n",
    "    return num**2     \n",
    "\n",
    "result = square(6) \n",
    "\n",
    "print( f\"The square of the given number is:  {result}\" )    "
   ]
  },
  {
   "cell_type": "markdown",
   "id": "e844ae86",
   "metadata": {},
   "source": [
    "### 3. What statement creates a `function`?"
   ]
  },
  {
   "cell_type": "markdown",
   "id": "703a69ed",
   "metadata": {},
   "source": [
    "**`Ans-3`**\n",
    "\n",
    ">- In Python, a function can be created/defined by using the **`def`** keyword, then we can write the function identifier (name) followed by parentheses and a colon.\n",
    ">- **Syntax:**\n",
    "        def function_name(arguments):\n",
    "                  \"\"\"Docstring\"\"\"\n",
    "                  # function body \n",
    "                  return\n",
    ">- **Example:**  We can see in the example below how function is created using **def** keyword, with few other elements like function name, function body, "
   ]
  },
  {
   "cell_type": "code",
   "execution_count": 20,
   "id": "e9be5ec2",
   "metadata": {
    "ExecuteTime": {
     "end_time": "2023-05-28T12:45:36.094986Z",
     "start_time": "2023-05-28T12:45:36.080742Z"
    }
   },
   "outputs": [
    {
     "name": "stdout",
     "output_type": "stream",
     "text": [
      "Hello World !\n"
     ]
    }
   ],
   "source": [
    "# defining greet function without arguement\n",
    "def hello():\n",
    "    '''This function will greet student'''            # docstring to understand function working\n",
    "    print(f\"Hello World !\")    # fucntion body to print specific greet msg\n",
    "    \n",
    "hello()                  # calling a 'greet'()  function"
   ]
  },
  {
   "cell_type": "markdown",
   "id": "4480e847",
   "metadata": {},
   "source": [
    "### 4. What is the difference between a `function` and a `function call`?"
   ]
  },
  {
   "cell_type": "markdown",
   "id": "2b547cb8",
   "metadata": {},
   "source": [
    "**`Ans-4`**\n",
    "\n",
    "> **`Function:`**\n",
    ">- `Def:-` A Function is block of code than accepts some values processes the desire task on it and return the result value.\n",
    ">- A function is a piece of code which enhanced the reusability and modularity of your program. It means that piece of code need not be written again.\n",
    ">- A function is something whic take parameters and do some calculations and operations and returns value.\n",
    ">- **Example:** Let us assum one simple function 'add' which add's two integer numbers as below,\n",
    "                def add(x,y):        # defining a function 'add'\n",
    "                     return x + y      # returning result of function 'add'\n",
    "\n",
    "> **`Function Call:`**\n",
    ">-  `Def:-` When a perticular task which is to be perform at any point in a program using a function then that process is called as function call.\n",
    ">- A function call means invoking or calling that function. Unless a function is called there is no use of that function.\n",
    ">- Calling a function means saying function, do this. You basically call a function, you don't return it.\n",
    ">- **Example:** We can call the function 'add' as below,\n",
    "                add(2,3)        # calling function 'add' to get result\n",
    "            \n"
   ]
  },
  {
   "cell_type": "markdown",
   "id": "add8f9e4",
   "metadata": {},
   "source": [
    "### 5. How many `global scopes` are there in a Python program? How many `local scopes`?"
   ]
  },
  {
   "cell_type": "markdown",
   "id": "9a3e10ff",
   "metadata": {},
   "source": [
    "**`Ans-5`**\n",
    "\n",
    "> **`Python Scope:`**\n",
    ">- The scope defines the accessibility of the python **object**. \n",
    ">- To access the particular variable in the code, the scope must be defined as it cannot be accessed from anywhere in the program. The particular coding region where variables are visible is known as scope. \n",
    ">- Variables are not visible to the entire code; their visibility can be restricted. Scope verifies which variable can be ‘Seen’.\n",
    ">- The `scope` defines the set of rules which tell us how and where a variable can be searched. The variable is searched either to retrieve a value or for assigning value.  The `namespace` is the unique identification of the variable or the method. \n",
    ">- `Namespace` tells the python interpreter about the name of the object and the location from where it is trying to access it.\n",
    ">- The various types of Python Scopes are listed below:\n",
    "            i) Local Scope- The local, or function-level, scope, which exists inside functions.\n",
    "            ii) Global Scope - The global scope, which exists at the module level\n",
    "            iii) Enclosing Scope or NonLocal- The enclosing, or non-local, scope, which appears in nested functions\n",
    "            iv) Built-in Scope - The built-in scope, which is a special scope for Python’s built-in names\n",
    ">- The `Namespaces` are searched for scope resolution according to the **`LEGB`** rule. The sequence of **LEGB** is important. The variable is first searched in Local, followed by Enclosed, then global and finally built-in.\n",
    ">- The LEGB stands for **`L`: Local**, **`E`: Enclosed**, **`G`: Global**, **`B`: Built-in**. "
   ]
  },
  {
   "cell_type": "markdown",
   "id": "c49b2f6d",
   "metadata": {},
   "source": [
    "> **`i) Local Scope:`**\n",
    ">- The Variables which are defined in the function are a **`local scope of the variable`**. \n",
    ">- The Local scope variables are defined in the function body. \n",
    "\n",
    ">- **Example:** Let’s us consider an example, we have taken one variables `num_1= 111` outside the function, and `num_2 = 222`  inside the function, so it is not a local variable.  As per our definition, the variables which are declared inside the function body is a local variable. Here, `num_2= 222` is a local variable that is declared and printed inside the function`local_test`. But when trying to access `num_2 = 222`and then print the same variable from outside the function ie print(num_2), it raised a NameError. This is because `num_2 = 222` is local to the function - thus, it cannot be reached from outside the function body."
   ]
  },
  {
   "cell_type": "code",
   "execution_count": 125,
   "id": "fe1c5466",
   "metadata": {
    "ExecuteTime": {
     "end_time": "2023-05-29T04:41:48.395461Z",
     "start_time": "2023-05-29T04:41:48.344310Z"
    }
   },
   "outputs": [
    {
     "name": "stdout",
     "output_type": "stream",
     "text": [
      "Local variable value is: 222\n"
     ]
    },
    {
     "ename": "NameError",
     "evalue": "name 'num_2' is not defined",
     "output_type": "error",
     "traceback": [
      "\u001b[1;31m---------------------------------------------------------------------------\u001b[0m",
      "\u001b[1;31mNameError\u001b[0m                                 Traceback (most recent call last)",
      "Input \u001b[1;32mIn [125]\u001b[0m, in \u001b[0;36m<cell line: 10>\u001b[1;34m()\u001b[0m\n\u001b[0;32m      6\u001b[0m     \u001b[38;5;28mprint\u001b[39m(\u001b[38;5;124m\"\u001b[39m\u001b[38;5;124mLocal variable value is:\u001b[39m\u001b[38;5;124m\"\u001b[39m,num_2)           \u001b[38;5;66;03m# accessing local variable num_2inside function\u001b[39;00m\n\u001b[0;32m      8\u001b[0m local_test()                        \u001b[38;5;66;03m# calling function\u001b[39;00m\n\u001b[1;32m---> 10\u001b[0m \u001b[38;5;28mprint\u001b[39m(\u001b[43mnum_2\u001b[49m)\n",
      "\u001b[1;31mNameError\u001b[0m: name 'num_2' is not defined"
     ]
    }
   ],
   "source": [
    "# eample-1: explaination of local variable inside function\n",
    "\n",
    "num_1= 111                          # defining global variable\n",
    "def local_test():                   # defining function\n",
    "    num_2 = 222                    #  defining local variable\n",
    "    print(\"Local variable value is:\",num_2)           # accessing local variable num_2inside function\n",
    "\n",
    "local_test()                        # calling function `local_test`\n",
    "\n",
    "print(num_2)                   # We can not access local variable outside function, it will show error as below"
   ]
  },
  {
   "cell_type": "markdown",
   "id": "1bee1944",
   "metadata": {},
   "source": [
    "> **`ii) Global Scope:`**\n",
    ">- The Variable which can be read from anywhere in the program is known as a global scope. \n",
    ">- These variables can be accessed inside and outside the function. When we want to use the same variable in the rest of the program, we declare it as global.\n",
    "\n",
    ">- **Example:** Let us consider an example, we have declared a variable Str, which is outside the function. The function demo is called, and it prints the value of variable Str. To use a global variable inside a function, there is no need to use the global keyword."
   ]
  },
  {
   "cell_type": "code",
   "execution_count": 126,
   "id": "26cbef20",
   "metadata": {
    "ExecuteTime": {
     "end_time": "2023-05-29T04:44:39.884211Z",
     "start_time": "2023-05-29T04:44:39.866120Z"
    }
   },
   "outputs": [
    {
     "name": "stdout",
     "output_type": "stream",
     "text": [
      "Global Variable is: 1111\n",
      "Local Variable is: 2222\n",
      "\n",
      "Global Variable is: 1111\n"
     ]
    }
   ],
   "source": [
    "# explaination on global variable\n",
    "num_1 = 1111                              # defining global variable\n",
    "def global_test():\n",
    "    num_2 = 2222                          # defining local variable\n",
    "    print(f\"Global Variable is: {num_1}\")  # accessing local variable inside function\n",
    "    print(f\"Local Variable is: {num_2}\")    # accessing global variable inside function\n",
    "\n",
    "global_test()                                  # calling function\n",
    "\n",
    "print(f\"\\nGlobal Variable is: {num_1}\")   # accessing global variable outside function"
   ]
  },
  {
   "cell_type": "markdown",
   "id": "16f473c5",
   "metadata": {},
   "source": [
    "> **`iii) Enclosing Scope or NonLocal:`**\n",
    ">- Nonlocal Variable is the variable that is defined in the `nested function`. It means the variable can be neither in the local scope nor in the global scope. \n",
    ">- To create a nonlocal variable **`nonlocal`** keyword is used.  \n",
    ">- **Example:** In the following code, we created an outer function, and there is a `nested function inner()`. In the scope of `outer()` function `inner()` function is defined. If we change the nonlocal variable as defined in the inner() function, then changes are reflected in the outer function."
   ]
  },
  {
   "cell_type": "code",
   "execution_count": 128,
   "id": "ef5ddfa8",
   "metadata": {
    "ExecuteTime": {
     "end_time": "2023-05-29T05:50:18.379822Z",
     "start_time": "2023-05-29T05:50:18.364613Z"
    }
   },
   "outputs": [
    {
     "name": "stdout",
     "output_type": "stream",
     "text": [
      "inner: nonlocal\n",
      "outer: nonlocal\n"
     ]
    }
   ],
   "source": [
    "# explaination on non-local variable\n",
    "\n",
    "def func_outer():           # defining outer function\n",
    "    x = \"local\"                                # definng local variable\n",
    "    def func_inner():       # defining inner function\n",
    "        nonlocal x\n",
    "        x = \"nonlocal\"                   # definng local variable\n",
    "        print(\"inner:\", x)    # accessing  \n",
    "    func_inner()\n",
    "    print(\"outer:\", x)\n",
    "func_outer()"
   ]
  },
  {
   "cell_type": "markdown",
   "id": "b7855ea0",
   "metadata": {},
   "source": [
    "> **`iv) Built-in Scope:`**\n",
    ">- If a Variable is not defined in local, Enclosed or global scope, then python looks for it in the built-in scope. \n",
    "> **Example:** In the Following Example, 1 from math module pi is imported, and the value of pi is not defined in global, local and enclosed. Python then looks for the pi value in the built-in scope and prints the value. Hence the name which is already present in the built-in scope should not be used as an identifier.\n"
   ]
  },
  {
   "cell_type": "code",
   "execution_count": 130,
   "id": "97e43489",
   "metadata": {
    "ExecuteTime": {
     "end_time": "2023-05-29T05:52:12.312137Z",
     "start_time": "2023-05-29T05:52:12.297172Z"
    }
   },
   "outputs": [
    {
     "name": "stdout",
     "output_type": "stream",
     "text": [
      "3.141592653589793\n"
     ]
    }
   ],
   "source": [
    "# explaination  on built-in Scope \n",
    "\n",
    "from math import pi \n",
    "# pi = 'Not defined in global pi'\n",
    "def func_outer(): \n",
    "    # pi = 'Not defined in outer pi' \n",
    "    def inner(): \n",
    "        # pi = 'not defined in inner pi' \n",
    "        print(pi) \n",
    "    inner() \n",
    "    \n",
    "func_outer()"
   ]
  },
  {
   "cell_type": "markdown",
   "id": "05b3592b",
   "metadata": {},
   "source": [
    "### 6. What happens to variables in a `local scope` when the function call `returns`?"
   ]
  },
  {
   "cell_type": "markdown",
   "id": "e5d9a205",
   "metadata": {},
   "source": [
    "**`Ans-6`**\n",
    ">-  A local variable retains its value until the next time the function is called. A local variable becomes undefined after the function call completes\n",
    ">- When a function call returns, then the variables defined in its local scope are no longer accessible and their memory is released by the program. \n",
    ">- However, if a variable is defined as a global variable, it will retain its value even after the function call returns. \n",
    ">- Additionally, if a variable from the local scope is passed as an argument to another function, its value may be retained in that function's scope.\n",
    "\n",
    "\n",
    "\n",
    "\n"
   ]
  },
  {
   "cell_type": "markdown",
   "id": "17e5d52b",
   "metadata": {},
   "source": [
    "### 7. What is the concept of a `return value`? Is it possible to have a `return value` in an expression?"
   ]
  },
  {
   "cell_type": "markdown",
   "id": "47900b19",
   "metadata": {},
   "source": [
    "**`Ans-7`**\n",
    "> **`return Value:`**\n",
    ">- **`Def: `** A return is a value that a function returns to the calling function when it completes its task. \n",
    ">- The Python `return statement` is a key component of `functions` and `methods`. A return statement consists of the `return keyword` followed by an optional `return value`. We can use the `return statement` to make your functions send Python objects back to the caller code. These objects are known as the function’s **`return value`** .\n",
    ">- Everything in Python is an `object`. So, our functions can return numeric values (int, float, and complex values), collections and sequences of objects (list, tuple, dictionary, or set objects), user-defined objects, classes, functions, and even modules or packages. The type of value your function returns depends largely on the task it performs.\n",
    ">- We can omit the `return value` of a function and use a bare return without a return value. You can also omit the entire return statement. In both cases, the return value will be None. Using the return statement effectively is a core skill if you want to code custom functions that are Pythonic and robust."
   ]
  },
  {
   "cell_type": "code",
   "execution_count": 88,
   "id": "b82d9ebb",
   "metadata": {
    "ExecuteTime": {
     "end_time": "2023-05-29T00:01:41.824655Z",
     "start_time": "2023-05-29T00:01:41.806722Z"
    }
   },
   "outputs": [
    {
     "data": {
      "text/plain": [
       "42"
      ]
     },
     "execution_count": 88,
     "metadata": {},
     "output_type": "execute_result"
    }
   ],
   "source": [
    "# Example-1: Explaination on return value\n",
    "\n",
    "def return_value():        # defining a function\n",
    "    \n",
    "    return 42                     # returning simple int value\n",
    "\n",
    "return_value()         # calling return_value function"
   ]
  },
  {
   "cell_type": "markdown",
   "id": "cc16d7e6",
   "metadata": {},
   "source": [
    "> **`return Value in Expression:`**\n",
    ">- If you define a function with an explicit return statement that has an explicit return value, then you can use that return value in any expression."
   ]
  },
  {
   "cell_type": "code",
   "execution_count": 87,
   "id": "c79d9467",
   "metadata": {
    "ExecuteTime": {
     "end_time": "2023-05-29T00:01:39.648831Z",
     "start_time": "2023-05-29T00:01:39.631578Z"
    }
   },
   "outputs": [
    {
     "data": {
      "text/plain": [
       "47"
      ]
     },
     "execution_count": 87,
     "metadata": {},
     "output_type": "execute_result"
    }
   ],
   "source": [
    "#  Example-2: Explaination on return value\n",
    "\n",
    "def return_value():        # defining a function\n",
    "    \n",
    "    return 42 + 5                    # using return value in a expression\n",
    "\n",
    "return_value()         # calling return_value function"
   ]
  },
  {
   "cell_type": "markdown",
   "id": "b2dffdde",
   "metadata": {},
   "source": [
    "### 8. If a function does not have a `return statement`, what is the `return value` of a call to that function?"
   ]
  },
  {
   "cell_type": "markdown",
   "id": "6ad1eff5",
   "metadata": {
    "ExecuteTime": {
     "end_time": "2023-05-28T14:58:05.831737Z",
     "start_time": "2023-05-28T14:58:05.818660Z"
    }
   },
   "source": [
    "**`Ans-8`**\n",
    "\n",
    ">-  If you don’t explicitly use a return value in a `return statement`, or if we totally omit the `return statement`, then Python will implicitly return a default value for us. That default return value will always be **`None`**.\n",
    "\n",
    "> **`return statement`**\n",
    ">- The Python `return statement` is a special statement that you can use inside a `function` or `method` to send the function’s result back to the caller. \n",
    ">- A return statement consists of the **`return keyword`** followed by an optional **`return value`**.\n",
    ">- The `return value` of a Python function can be any Python `object`. Everything in Python is an object. So, your functions can return numeric values (int, float, and complex values), collections and sequences of objects (list, tuple, dictionary, or set objects), user-defined objects, classes, functions, and even modules or packages.\n",
    ">- There are two types of `return statements` are as below:\n",
    "            i) Explicit return Statements,\n",
    "            ii) Implicit return Statements.\n",
    "\n",
    "> **`i) Explicit return Statements:`**\n",
    ">- An `explicit return statement` immediately terminates a function execution and sends the `return value` back to the caller code. \n",
    ">- To add an explicit return statement to a Python function, you need to use `return` followed by an optional `return value`.\n",
    ">- **`Syntax:`**\n",
    "            def function_name():\n",
    "                '''docstring'''\n",
    "                # function body\n",
    "                return return_value\n",
    ">- **Example:**                    "
   ]
  },
  {
   "cell_type": "code",
   "execution_count": 92,
   "id": "8ce5fb3d",
   "metadata": {
    "ExecuteTime": {
     "end_time": "2023-05-29T02:22:41.836951Z",
     "start_time": "2023-05-29T02:22:41.825880Z"
    }
   },
   "outputs": [
    {
     "data": {
      "text/plain": [
       "'Hello World!'"
      ]
     },
     "execution_count": 92,
     "metadata": {},
     "output_type": "execute_result"
    }
   ],
   "source": [
    "# explaination of Explicit return statement\n",
    "def hello():                            # defining function\n",
    "    msg = \"Hello World!\"      # local variable with some massege\n",
    "    \n",
    "    return msg                          # explicitly returning  return value\n",
    "\n",
    "hello()                                  # calling function"
   ]
  },
  {
   "cell_type": "markdown",
   "id": "87ce57d6",
   "metadata": {},
   "source": [
    "> **`ii) Implicit return Statements:`**\n",
    ">- A Python function will always have a `return value`. There is no notion of procedure or routine in Python. \n",
    ">- So, if you don’t `explicitly` use a `return value` in a return statement, or if you totally `omit` the `return statement`, then Python will `implicitly return` a default value for you. That default return value will always be `None`.\n",
    ">- **Syntax**:\n",
    "      def function_name():\n",
    "          '''docstring'''\n",
    "          # function body\n",
    "          "
   ]
  },
  {
   "cell_type": "code",
   "execution_count": 122,
   "id": "f28a444c",
   "metadata": {
    "ExecuteTime": {
     "end_time": "2023-05-29T04:28:04.383877Z",
     "start_time": "2023-05-29T04:28:04.373795Z"
    }
   },
   "outputs": [
    {
     "name": "stdout",
     "output_type": "stream",
     "text": [
      "None\n"
     ]
    }
   ],
   "source": [
    "# explaination of Explicit return statement\n",
    "def add(x):                            # defining function\n",
    "    addition = x+2      # local variable with some massege\n",
    "    \n",
    "                                                   # NO return-statement used here\n",
    "\n",
    "result=add(2)                                  # calling function\n",
    "\n",
    "print(result)                         # it will return \"None\""
   ]
  },
  {
   "cell_type": "markdown",
   "id": "eac10fc7",
   "metadata": {},
   "source": [
    "### 9. How do you make a `function variable` refer to the `global variable`?"
   ]
  },
  {
   "cell_type": "markdown",
   "id": "daa0f932",
   "metadata": {},
   "source": [
    "**`Ans-9`**\n",
    "\n",
    "> **`i) Local Variable:`**\n",
    ">- The variables which are defined inside the function are known as a **`Local Variables/function variables`**. \n",
    ">-  We can access `local variables` in Python only `inside` the function. \n",
    "\n",
    "> **`ii) Global Variable:`**\n",
    ">- The variables which are defined outside the function are known as **`Global Variables`**.\n",
    ">-  We can access `global variables` in Python both `inside` and `outside` the function. \n",
    "\n",
    "> **`Local variable as global variable:`**\n",
    ">- If a function has a `local variable` and if we wanst to modify that local variable as a global variable inside function then we have to use **`global`** keyword before the variable name at start of function.\n",
    ">- **Example:**\n",
    "\n"
   ]
  },
  {
   "cell_type": "code",
   "execution_count": 120,
   "id": "3526e972",
   "metadata": {
    "ExecuteTime": {
     "end_time": "2023-05-29T02:55:41.133087Z",
     "start_time": "2023-05-29T02:55:41.121088Z"
    }
   },
   "outputs": [
    {
     "name": "stdout",
     "output_type": "stream",
     "text": [
      "Printing Inside the Function: 15\n",
      "Printing Outside the Function: 15\n"
     ]
    }
   ],
   "source": [
    "# function variable refer to the global variable\n",
    "\n",
    "total = 100                   # defining global variable outside the function\n",
    "def func():\n",
    "    global total               # making to global variable 'total' inside function\n",
    "    if total > 10:\n",
    "        total = 15\n",
    "        print(f\"Printing Inside the Function: {total}\")         # printing variable inside the function\n",
    "\n",
    "func()\n",
    "\n",
    "print(f\"Printing Outside the Function: {total}\")              #  printing local variable outside the function which acts as global variable\n"
   ]
  },
  {
   "cell_type": "markdown",
   "id": "59807601",
   "metadata": {},
   "source": [
    "### 10. What is the data type of `None`?"
   ]
  },
  {
   "cell_type": "markdown",
   "id": "a438fb40",
   "metadata": {},
   "source": [
    "**`Ans-10`**\n",
    "\n",
    "> **`None:`**\n",
    ">- The `None` keyword is used to define a null value, or no value at all.\n",
    ">- The `None` is not the same as 0, False, or an empty string. None is a data type of its own (NoneType) and only None can be None.\n",
    ">- Python uses the keyword `None` to define `null objects and variables`. \n",
    ">- While `None` does serve some of the same purposes as null in other languages, it’s another beast entirely. As the `null` in Python, `None` is not defined to be 0 or any other value. \n",
    "\n",
    "> **`Data Type of None:`**\n",
    ">- The datatype of `None` is **`NoneType`**.\n",
    ">- None is a data type of its own (NoneType) and only None can be None."
   ]
  },
  {
   "cell_type": "markdown",
   "id": "d723c654",
   "metadata": {},
   "source": [
    "### 11. What does the sentence `import areallyourpetsnamederic` do?"
   ]
  },
  {
   "cell_type": "markdown",
   "id": "32909bd5",
   "metadata": {},
   "source": [
    "**`Ans-11`**\n",
    "\n",
    ">-  The sentence \"import areallyourpetsnamederic\" will import the module 'areallyourpetsnamederic'."
   ]
  },
  {
   "cell_type": "markdown",
   "id": "769b0dd2",
   "metadata": {},
   "source": [
    "### 12. If you had a `bacon() feature` in a `spam module`, what would you call it after importing spam?"
   ]
  },
  {
   "cell_type": "markdown",
   "id": "2c8bc1a4",
   "metadata": {},
   "source": [
    "**`Ans-12`**\n",
    "\n",
    ">- Let us assume, we have **`spam`** module which contains **`bacon()`** function/feature, then we can use it in following way:"
   ]
  },
  {
   "cell_type": "code",
   "execution_count": null,
   "id": "d737dcc6",
   "metadata": {
    "ExecuteTime": {
     "end_time": "2023-05-29T05:54:21.975376Z",
     "start_time": "2023-05-29T05:54:21.885423Z"
    }
   },
   "outputs": [],
   "source": [
    "# explaination \n",
    "import spam                 # importing spam-module\n",
    "spam.bacon()                # calling bacon() feature of spam-module"
   ]
  },
  {
   "cell_type": "markdown",
   "id": "308c8c45",
   "metadata": {},
   "source": [
    "### 13. What can you do to save a programme from crashing if it encounters an `error`?"
   ]
  },
  {
   "cell_type": "markdown",
   "id": "44b7d79c",
   "metadata": {},
   "source": [
    "**`Ans-13`**\n",
    "\n",
    ">- Sometimes while executing a Python program, the program does not execute at all or the program executes but generates unexpected output or behaves abnormally. These occur when there are `syntax errors`, `runtime errors` or `logical errors` in the code.\n",
    ">- `Error` in Python can be of two types i.e. `Syntax errors` and `Exceptions`. **`Errors`** are problems in a program due to which the program will stop the execution. On the other hand, **`exceptions`** are raised when some internal events occur which change the normal flow of the program. \n",
    ">- Each and every exception has to be handled by the programmer to avoid the program from crashing abruptly.  This is done by writing additional code in a program to give proper messages or instructions to the user on encountering an exception. This process is known as **`exception handling`**.\n",
    ">- **Exceptions** are raised when the program encounters an error during its execution. They disrupt the normal flow of the program and usually end it abruptly. To avoid this, you can catch them and handle them appropriately using **`Try-Except-Statement.`**\n",
    "\n",
    "\n"
   ]
  },
  {
   "cell_type": "markdown",
   "id": "992d8a9f",
   "metadata": {},
   "source": [
    "### 14. What is the purpose of the `try clause`? What is the purpose of the `except clause`?"
   ]
  },
  {
   "cell_type": "markdown",
   "id": "e02ff4b7",
   "metadata": {},
   "source": [
    "**`Ans-14`**\n",
    "\n",
    "\n"
   ]
  },
  {
   "cell_type": "markdown",
   "id": "14970683",
   "metadata": {},
   "source": [
    ">- In Python, try and except are used to handle exceptions, which are errors detected during execution. \n",
    ">- With try and except, even if an exception occurs, the process continues without terminating. Additionally, else and finally can be used to set the ending process.\n",
    "\n",
    "> **`try:`**\n",
    ">- The `try block` is used to check some code for errors i.e the code inside the `try block` will execute when there is no error in the program.\n",
    "\n",
    "> **`except`**\n",
    ">-  The code in `except block` is only executed if an exception occured in the try block. The `except block` is required with a try block, even if it contains only the pass statement.\n",
    "\n",
    "\n",
    ">- It may be combined with the `else` and `finally` keywords. **`else:`** Code in the else block is only executed if no exceptions were raised in the try block. **`finally:`** The code in the finally block is always executed, regardless of if a an exception was raised or not."
   ]
  }
 ],
 "metadata": {
  "hide_input": false,
  "kernelspec": {
   "display_name": "Python 3 (ipykernel)",
   "language": "python",
   "name": "python3"
  },
  "language_info": {
   "codemirror_mode": {
    "name": "ipython",
    "version": 3
   },
   "file_extension": ".py",
   "mimetype": "text/x-python",
   "name": "python",
   "nbconvert_exporter": "python",
   "pygments_lexer": "ipython3",
   "version": "3.10.9"
  },
  "varInspector": {
   "cols": {
    "lenName": 16,
    "lenType": 16,
    "lenVar": 40
   },
   "kernels_config": {
    "python": {
     "delete_cmd_postfix": "",
     "delete_cmd_prefix": "del ",
     "library": "var_list.py",
     "varRefreshCmd": "print(var_dic_list())"
    },
    "r": {
     "delete_cmd_postfix": ") ",
     "delete_cmd_prefix": "rm(",
     "library": "var_list.r",
     "varRefreshCmd": "cat(var_dic_list()) "
    }
   },
   "types_to_exclude": [
    "module",
    "function",
    "builtin_function_or_method",
    "instance",
    "_Feature"
   ],
   "window_display": false
  }
 },
 "nbformat": 4,
 "nbformat_minor": 5
}
